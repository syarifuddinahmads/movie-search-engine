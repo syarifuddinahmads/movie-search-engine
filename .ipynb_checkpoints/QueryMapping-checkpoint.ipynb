{
 "cells": [
  {
   "cell_type": "code",
   "execution_count": 33,
   "metadata": {},
   "outputs": [],
   "source": [
    "#import library\n",
    "import nltk\n",
    "from nltk import word_tokenize, sent_tokenize\n",
    "from nltk.corpus import stopwords\n",
    "from nltk.stem import PorterStemmer\n",
    "import pandas as pd\n",
    "from operator import itemgetter\n",
    "from math import log"
   ]
  },
  {
   "cell_type": "code",
   "execution_count": 34,
   "metadata": {},
   "outputs": [],
   "source": [
    "#set stopwords language\n",
    "stop_words = stopwords.words('english')\n",
    "stemmer = PorterStemmer()"
   ]
  },
  {
   "cell_type": "code",
   "execution_count": 50,
   "metadata": {},
   "outputs": [],
   "source": [
    "def search(word):\n",
    "    i = 1\n",
    "    status = True\n",
    "    while status:\n",
    "        data = pd.read_csv('data_film.csv',sep=',')\n",
    "        data_after = pd.read_csv('post_processing_data_film_cleaned.csv',sep=\"|\")\n",
    "        \n",
    "        data_word = word.split(\" \")\n",
    "        \n",
    "        # query\n",
    "        query_word = []\n",
    "        for dw in data_word:\n",
    "            token = word_tokenize(dw)\n",
    "            dw_cleaned_token = \"\"\n",
    "            for word_token in token:\n",
    "                if word_token not in stop_words:\n",
    "                    dw_cleaned_token += word_token +\" \"\n",
    "            \n",
    "            token_stemming = word_tokenize(dw_cleaned_token)\n",
    "            for ws in token_stemming:\n",
    "                query_word.append(stemmer.stem(ws))\n",
    "        \n",
    "        print('Query Word = ',query_word)\n",
    "            \n",
    "        \n",
    "        # TF - DF\n",
    "        termFreq = []\n",
    "        docsFreq = []\n",
    "        for i, term in enumerate(query_word):\n",
    "            docsCounter = []\n",
    "            docsFreqCounter = 0\n",
    "            for doc in data_after['word']:\n",
    "                counter = 0\n",
    "                for word in doc.split(' '):\n",
    "                    if word == term:\n",
    "                        counter +=1\n",
    "                docsCounter.append(counter)\n",
    "                \n",
    "                if counter > 0:\n",
    "                    docsFreqCounter +=1\n",
    "            termFreq.append(docsCounter)\n",
    "            docsFreq.append(docsFreqCounter)\n",
    "        \n",
    "        # IDF + 1\n",
    "        idf_one = []\n",
    "        docsTotal = len(data)\n",
    "        for i in docsFreq:\n",
    "            idf_one.append(log(docsTotal)/(i+1))\n",
    "            \n",
    "        # TFIDF\n",
    "        docs_weight = termFreq[:]\n",
    "        for i in range(len(docs_weight)):\n",
    "            for j in range(len(docs_weight[i])):\n",
    "                docs_weight[i][j] = termFreq[i][j]*idf_one[i]\n",
    "                \n",
    "        # sum total weight docs\n",
    "        total_weight = []\n",
    "        for i in range(len(docs_weight[0])):\n",
    "            total_weight.append([i,0])\n",
    "        \n",
    "        for i in range(len(docs_weight)):\n",
    "            for j in range(len(docs_weight[i])):\n",
    "                total_weight[j][1] += docs_weight[i][j]\n",
    "                \n",
    "        # sort document relevan\n",
    "        total_weight = sorted(total_weight,key=itemgetter(1),reverse=True)\n",
    "        \n",
    "        # show top 25 document relevan\n",
    "        for i in range(0,15):\n",
    "            print(str(i+1)+str('. ')+str(data['title'][total_weight[i][0]])+\" | \"+str(total_weight[i][1]))\n",
    "    \n",
    "        status = False\n"
   ]
  },
  {
   "cell_type": "code",
   "execution_count": 53,
   "metadata": {},
   "outputs": [
    {
     "name": "stdout",
     "output_type": "stream",
     "text": [
      "Query Word =  ['soldier']\n",
      "1. The Falcon and the Winter Soldier | 2.0858620314616054\n",
      "2. Queen of the South | 2.0858620314616054\n",
      "3. Hitman's Wife's Bodyguard | 2.0858620314616054\n",
      "4. Real World/Road Rules Challenge | 2.0858620314616054\n",
      "5. Godzilla vs. Kong | 0.0\n",
      "6. Black Widow | 0.0\n",
      "7. Jupiter's Legacy | 0.0\n",
      "8. Zack Snyder's Justice League | 0.0\n",
      "9. Mortal Kombat | 0.0\n",
      "10. Invincible | 0.0\n",
      "11. The Suicide Squad | 0.0\n",
      "12. Game of Thrones | 0.0\n",
      "13. Thunder Force | 0.0\n",
      "14. Loki | 0.0\n",
      "15. Shingeki no kyojin | 0.0\n"
     ]
    }
   ],
   "source": [
    "search(\"Soldier\")"
   ]
  }
 ],
 "metadata": {
  "kernelspec": {
   "display_name": "Python 3",
   "language": "python",
   "name": "python3"
  },
  "language_info": {
   "codemirror_mode": {
    "name": "ipython",
    "version": 3
   },
   "file_extension": ".py",
   "mimetype": "text/x-python",
   "name": "python",
   "nbconvert_exporter": "python",
   "pygments_lexer": "ipython3",
   "version": "3.7.6"
  }
 },
 "nbformat": 4,
 "nbformat_minor": 4
}
