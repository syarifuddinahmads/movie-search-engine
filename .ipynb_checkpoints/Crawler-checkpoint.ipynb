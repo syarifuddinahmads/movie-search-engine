{
 "cells": [
  {
   "cell_type": "code",
   "execution_count": 27,
   "metadata": {},
   "outputs": [],
   "source": [
    "# import library\n",
    "from bs4 import BeautifulSoup\n",
    "import requests\n",
    "import pandas as pd  \n",
    "\n",
    "# url target\n",
    "url = 'https://www.imdb.com/chart/boxoffice/?ref_=nv_ch_cht'\n",
    "# response from url\n",
    "response = requests.get(url)\n",
    "# data abstract text\n",
    "data = response.text\n",
    "# parse html with soup\n",
    "soup = BeautifulSoup(data,'html.parser')\n",
    "# tags extraction from html parse\n",
    "genres_tags = soup.find_all('li',{'class':'subnav_item_main'})\n",
    "\n",
    "    "
   ]
  },
  {
   "cell_type": "code",
   "execution_count": 28,
   "metadata": {},
   "outputs": [
    {
     "name": "stdout",
     "output_type": "stream",
     "text": [
      "List Genres =  ['action', 'adventure', 'animation', 'biography', 'comedy', 'crime', 'documentary', 'drama', 'family', 'fantasy', 'film_noir', 'history', 'horror', 'music', 'musical', 'mystery', 'romance', 'sci_fi', 'short', 'sport', 'thriller', 'war', 'western']\n"
     ]
    }
   ],
   "source": [
    "# loop tag extraction\n",
    "list_genres = []\n",
    "for item_tag in genres_tags:\n",
    "    list_genres.append(item_tag.find('a').get('href').replace('/genre/',''))\n",
    "\n",
    "print('List Genres = ',list_genres)"
   ]
  },
  {
   "cell_type": "code",
   "execution_count": 34,
   "metadata": {},
   "outputs": [
    {
     "name": "stdout",
     "output_type": "stream",
     "text": [
      "Image =  https://m.media-amazon.com/images/S/sash/4FyxwxECzL-U1J8.png\n",
      "Title =  Godzilla vs. Kong\n",
      "Url =  https://imdb.com//title/tt5034838/\n",
      "Year =  (2021)\n",
      "Genre Related =  \n",
      "Action Sci-Fi Thriller            \n",
      "Description =  \n",
      "    The epic next chapter in the cinematic Monsterverse pits two of the greatest icons in motion picture history against one another - the fearsome Godzilla and the mighty Kong - with humanity caught in the balance.\n"
     ]
    },
    {
     "ename": "NameError",
     "evalue": "name 'genre_param' is not defined",
     "output_type": "error",
     "traceback": [
      "\u001b[0;31m---------------------------------------------------------------------------\u001b[0m",
      "\u001b[0;31mNameError\u001b[0m                                 Traceback (most recent call last)",
      "\u001b[0;32m<ipython-input-34-f7173c69f1bc>\u001b[0m in \u001b[0;36m<module>\u001b[0;34m\u001b[0m\n\u001b[1;32m     55\u001b[0m         \u001b[0murl\u001b[0m\u001b[0;34m.\u001b[0m\u001b[0mappend\u001b[0m\u001b[0;34m(\u001b[0m\u001b[0murl_item\u001b[0m\u001b[0;34m)\u001b[0m\u001b[0;34m\u001b[0m\u001b[0;34m\u001b[0m\u001b[0m\n\u001b[1;32m     56\u001b[0m         \u001b[0mthumbnail\u001b[0m\u001b[0;34m.\u001b[0m\u001b[0mappend\u001b[0m\u001b[0;34m(\u001b[0m\u001b[0mimg_item\u001b[0m\u001b[0;34m)\u001b[0m\u001b[0;34m\u001b[0m\u001b[0;34m\u001b[0m\u001b[0m\n\u001b[0;32m---> 57\u001b[0;31m         \u001b[0mgenre\u001b[0m\u001b[0;34m.\u001b[0m\u001b[0mappend\u001b[0m\u001b[0;34m(\u001b[0m\u001b[0mgenre_param\u001b[0m\u001b[0;34m)\u001b[0m\u001b[0;34m\u001b[0m\u001b[0;34m\u001b[0m\u001b[0m\n\u001b[0m\u001b[1;32m     58\u001b[0m         \u001b[0mrelated_genre\u001b[0m\u001b[0;34m.\u001b[0m\u001b[0mappend\u001b[0m\u001b[0;34m(\u001b[0m\u001b[0mgenre_related_item\u001b[0m\u001b[0;34m)\u001b[0m\u001b[0;34m\u001b[0m\u001b[0;34m\u001b[0m\u001b[0m\n\u001b[1;32m     59\u001b[0m         \u001b[0myear\u001b[0m\u001b[0;34m.\u001b[0m\u001b[0mappend\u001b[0m\u001b[0;34m(\u001b[0m\u001b[0myear_item\u001b[0m\u001b[0;34m)\u001b[0m\u001b[0;34m\u001b[0m\u001b[0;34m\u001b[0m\u001b[0m\n",
      "\u001b[0;31mNameError\u001b[0m: name 'genre_param' is not defined"
     ]
    }
   ],
   "source": [
    "# list item crawl\n",
    "title = []\n",
    "url = []\n",
    "thumbnail = []\n",
    "genre = []\n",
    "related_genre = []\n",
    "year = []\n",
    "description = []\n",
    "\n",
    "for genre_item in list_genres:\n",
    "    \n",
    "    # config uri and response\n",
    "    url_genre = 'https://www.imdb.com/search/title/?&genres='+genre_item+'&explore=title_type,genres'\n",
    "    response_url = requests.get(url_genre)\n",
    "    data_genre = response_url.text\n",
    "    soup_genre = BeautifulSoup(data_genre,'html.parser')\n",
    "    list_movie_tags = soup_genre.find_all('div',{'class':'lister-item'})\n",
    "    \n",
    "    \n",
    "    # looping film berdasar genre\n",
    "    for item_movie in list_movie_tags:\n",
    "        \n",
    "        # untuk ambil gambar atau thumbnail\n",
    "        img_item = item_movie.find('div',{'class':'lister-item-image'}).find('a').find('img').get('src')\n",
    "        print('Image = ',img_item)\n",
    "        \n",
    "        # untuk ambil judul film\n",
    "        title_item = item_movie.find('h3',{'class':'lister-item-header'})\n",
    "        _title = title_item.find('a').text\n",
    "        print('Title = ',_title)\n",
    "        \n",
    "        # untuk ambil url film\n",
    "        url_item = 'https://imdb.com/'+title_item.find('a').get('href')\n",
    "        print('Url = ',url_item)\n",
    "        \n",
    "        # untuk ambil tahun film\n",
    "        year_item = title_item.find('span',{'class':'lister-item-year'}).text\n",
    "        print('Year = ',year_item)\n",
    "        \n",
    "        # untuk ambil genre\n",
    "        genre_related_item = item_movie.find('span',{'class':'genre'}).text.replace(',','')\n",
    "        print('Genre Related = ',genre_related_item)\n",
    "        \n",
    "        # untuk ambil deskrispi\n",
    "        description_item = ''\n",
    "        description_list = item_movie.find_all('p',{'class':'text-muted'})\n",
    "        for desc in description_list:\n",
    "            if desc.find('span') is None:\n",
    "                description_item = desc.text\n",
    "        \n",
    "        print('Description = ',description_item)\n",
    "        \n",
    "        # append to list\n",
    "        title.append(_title)\n",
    "        url.append(url_item)\n",
    "        thumbnail.append(img_item)\n",
    "        genre.append(genre_item)\n",
    "        related_genre.append(genre_related_item)\n",
    "        year.append(year_item)\n",
    "        description.append(description_item)\n",
    "        \n",
    "        print('----------------------------------------------------------------------------------------------')\n",
    "# simpan ke csv\n",
    "dictFile = {\n",
    "        'title':title,\n",
    "        'description':description,\n",
    "        'genre':genre,\n",
    "        'reated_genre':related_genre,\n",
    "        'year':year,\n",
    "        'thumbnail':thumbnail,\n",
    "        'url':url}\n",
    "df = pd.DataFrame(dictFile) \n",
    "    \n",
    "# saving the dataframe \n",
    "df.to_csv('data_film.csv') \n",
    "\n",
    "        \n",
    "        \n",
    "        "
   ]
  }
 ],
 "metadata": {
  "kernelspec": {
   "display_name": "Python 3",
   "language": "python",
   "name": "python3"
  },
  "language_info": {
   "codemirror_mode": {
    "name": "ipython",
    "version": 3
   },
   "file_extension": ".py",
   "mimetype": "text/x-python",
   "name": "python",
   "nbconvert_exporter": "python",
   "pygments_lexer": "ipython3",
   "version": "3.7.6"
  }
 },
 "nbformat": 4,
 "nbformat_minor": 4
}
