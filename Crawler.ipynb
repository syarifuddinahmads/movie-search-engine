{
 "cells": [
  {
   "cell_type": "code",
   "execution_count": 1,
   "metadata": {},
   "outputs": [],
   "source": [
    "# import library\n",
    "from bs4 import BeautifulSoup\n",
    "import requests\n",
    "import pandas as pd  \n",
    "\n",
    "# url target\n",
    "url = 'https://www.imdb.com/chart/boxoffice/?ref_=nv_ch_cht'\n",
    "# response from url\n",
    "response = requests.get(url)\n",
    "# data abstract text\n",
    "data = response.text\n",
    "# parse html with soup\n",
    "soup = BeautifulSoup(data,'html.parser')\n",
    "# tags extraction from html parse\n",
    "genres_tags = soup.find_all('li',{'class':'subnav_item_main'})\n",
    "\n",
    "    "
   ]
  },
  {
   "cell_type": "code",
   "execution_count": 2,
   "metadata": {},
   "outputs": [
    {
     "name": "stdout",
     "output_type": "stream",
     "text": [
      "List Genres =  ['action', 'adventure', 'animation', 'biography', 'comedy', 'crime', 'documentary', 'drama', 'family', 'fantasy', 'film_noir', 'history', 'horror', 'music', 'musical', 'mystery', 'romance', 'sci_fi', 'short', 'sport', 'thriller', 'war', 'western']\n"
     ]
    }
   ],
   "source": [
    "# loop tag extraction\n",
    "list_genres = []\n",
    "for item_tag in genres_tags:\n",
    "    list_genres.append(item_tag.find('a').get('href').replace('/genre/',''))\n",
    "\n",
    "print('List Genres = ',list_genres)"
   ]
  },
  {
   "cell_type": "code",
   "execution_count": 3,
   "metadata": {},
   "outputs": [],
   "source": [
    "def crawl_movie(genre):\n",
    "    \n",
    "    # config uri and response\n",
    "    url_genre = 'https://www.imdb.com/search/title/?&genres='+genre+'&explore=title_type,genres'\n",
    "    response_url = requests.get(url_genre)\n",
    "    data_genre = response_url.text\n",
    "    soup_genre = BeautifulSoup(data_genre,'html.parser')\n",
    "    list_movie_tags = soup_genre.find_all('div',{'class':'lister-item'})\n",
    "    \n",
    "    # list item crawl\n",
    "    title = []\n",
    "    url = []\n",
    "    thumbnail = []\n",
    "    genre = []\n",
    "    related_genre = []\n",
    "    year = []\n",
    "    description = []\n",
    "    \n",
    "    # looping film berdasar genre\n",
    "    for item_movie in list_movie_tags:\n",
    "        \n",
    "        print('Genre = ',genre)\n",
    "        \n",
    "        # untuk ambil gambar atau thumbnail\n",
    "        img_item = item_movie.find('div',{'class':'lister-item-image'}).find('a').find('img').get('src')\n",
    "        print('Image = ',img_item)\n",
    "        \n",
    "        # untuk ambil judul film\n",
    "        title_item = item_movie.find('h3',{'class':'lister-item-header'})\n",
    "        _title = title_item.find('a').text\n",
    "        print('Title = ',_title)\n",
    "        \n",
    "        # untuk ambil url film\n",
    "        url_item = 'https://imdb.com/'+title_item.find('a').get('href')\n",
    "        print('Url = ',url_item)\n",
    "        \n",
    "        # untuk ambil tahun film\n",
    "        year_item = title_item.find('span',{'class':'lister-item-year'}).text\n",
    "        print('Year = ',year_item)\n",
    "        \n",
    "        # untuk ambil genre\n",
    "        genre_related_item = item_movie.find('span',{'class':'genre'}).text.replace(',','')\n",
    "        print('Genre Related = ',genre_related_item)\n",
    "        \n",
    "        # untuk ambil deskrispi\n",
    "        description_item = ''\n",
    "        description_list = item_movie.find_all('p',{'class':'text-muted'})\n",
    "        for desc in description_list:\n",
    "            if desc.find('span') is None:\n",
    "                description_item = desc.text\n",
    "        \n",
    "        print('Description = ',description_item)\n",
    "        \n",
    "        # append to list\n",
    "        title.append(_title)\n",
    "        url.append(url_item)\n",
    "        thumbnail.append(img_item)\n",
    "        genre.append(genre)\n",
    "        related_genre.append(genre_related_item)\n",
    "        year.append(year_item)\n",
    "        description.append(description_item)\n",
    "        \n",
    "        print('----------------------------------------------------------------------------------------------')\n",
    "    \n",
    "    # simpan ke csv\n",
    "    dictFile = {\n",
    "        'title':title,\n",
    "        'description':description,\n",
    "        'genre':genre,\n",
    "        'reated_genre':related_genre,\n",
    "        'year':year,\n",
    "        'thumbnail':thumbnail,\n",
    "        'url':url}\n",
    "    df = pd.DataFrame(dictFile) \n",
    "    \n",
    "    # saving the dataframe \n",
    "    df.to_csv('data_film.csv') \n",
    "        "
   ]
  },
  {
   "cell_type": "code",
   "execution_count": null,
   "metadata": {},
   "outputs": [],
   "source": [
    "crawl_movie('action')\n",
    "\n",
    "# print('================================================')\n",
    "# crawl_movie('adventure')\n",
    "\n",
    "# print('================================================')\n",
    "# crawl_movie('animation')\n",
    "\n",
    "# for genre in list_genres:\n",
    "#     print('Genre = ',genre)\n",
    "#     crawl_movie(genre)\n",
    "#     print('================================================')\n",
    "    "
   ]
  }
 ],
 "metadata": {
  "kernelspec": {
   "display_name": "Python 3",
   "language": "python",
   "name": "python3"
  },
  "language_info": {
   "codemirror_mode": {
    "name": "ipython",
    "version": 3
   },
   "file_extension": ".py",
   "mimetype": "text/x-python",
   "name": "python",
   "nbconvert_exporter": "python",
   "pygments_lexer": "ipython3",
   "version": "3.7.6"
  }
 },
 "nbformat": 4,
 "nbformat_minor": 4
}
